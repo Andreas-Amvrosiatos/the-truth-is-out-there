{
 "cells": [
  {
   "cell_type": "markdown",
   "id": "120a1c09-51ef-48d7-b2cd-a1ee5c436166",
   "metadata": {},
   "source": [
    "# Data Science Tools and Ecosystem\n"
   ]
  },
  {
   "cell_type": "markdown",
   "id": "8ed60a02-b57c-4152-900a-ed6c703f1f59",
   "metadata": {},
   "source": [
    "In this notebook, Data Science Tools and Ecosystem are summarized."
   ]
  },
  {
   "cell_type": "markdown",
   "id": "283245e6-4d5a-4962-8e52-f2d195faee01",
   "metadata": {},
   "source": [
    "**Our objectives are to be acquainted with:**\n",
    "* Popular Data Science Languages\n",
    "* Commonly used libraries in Data Science\n",
    "* Examples of arithmetic expression evaluation in Python\n",
    "  "
   ]
  },
  {
   "cell_type": "markdown",
   "id": "a62ac6d9-15f6-4281-b0e4-0592fa2d3df6",
   "metadata": {},
   "source": [
    "Some of the popular languages used in Data Science are:\n",
    "1. Python\n",
    "2. Julia\n",
    "3. R\n",
    "4. Java"
   ]
  },
  {
   "cell_type": "markdown",
   "id": "5d3c9f84-7a2a-478b-b442-649d9e53fd14",
   "metadata": {},
   "source": [
    "Some of the commonly used libraries used by Data Scientists include:\n",
    "1. PyCharm\n",
    "2. Matplotlib\n",
    "3. Scikit-learn\n",
    "4. Keras\n",
    "5. Seaborn"
   ]
  },
  {
   "cell_type": "markdown",
   "id": "fb05643a-13e9-4bb8-8f54-932b2684d6d4",
   "metadata": {},
   "source": [
    "|Data Science Tools|\n",
    "|------------------|\n",
    "|Python|\n",
    "|Tableau|\n",
    "|Tensorflow|\n",
    "|Apache Hadoop|"
   ]
  },
  {
   "cell_type": "markdown",
   "id": "58bac057-83e7-4706-a6c7-8606d41f0268",
   "metadata": {},
   "source": [
    "### Below are a few examples of evaluating arithmetic expressions in Python"
   ]
  },
  {
   "cell_type": "code",
   "execution_count": 13,
   "id": "85556b3c-ff8a-4da3-8d39-bad13c28804d",
   "metadata": {},
   "outputs": [
    {
     "data": {
      "text/plain": [
       "17"
      ]
     },
     "execution_count": 13,
     "metadata": {},
     "output_type": "execute_result"
    }
   ],
   "source": [
    "# This a simple arithmetic expression to multiply then add integers.\n",
    "\n",
    "(3*4)+5"
   ]
  },
  {
   "cell_type": "code",
   "execution_count": 15,
   "id": "9e2493d9-d778-4c41-969c-82383d95c2cf",
   "metadata": {},
   "outputs": [
    {
     "data": {
      "text/plain": [
       "3.3333333333333335"
      ]
     },
     "execution_count": 15,
     "metadata": {},
     "output_type": "execute_result"
    }
   ],
   "source": [
    "# Below we will convert 200 minutes to hours by diving by 60\n",
    "x = 200  #Number of minutes we want to convert into hours\n",
    "y = 60   #Number of minutes in one hour\n",
    "x / y"
   ]
  },
  {
   "cell_type": "markdown",
   "id": "07f3fdc3-0525-4586-8ad8-562ed00223e7",
   "metadata": {},
   "source": [
    "## Author\n",
    "Andreas Amvrosiatos"
   ]
  }
 ],
 "metadata": {
  "kernelspec": {
   "display_name": "Python 3 (ipykernel)",
   "language": "python",
   "name": "python3"
  },
  "language_info": {
   "codemirror_mode": {
    "name": "ipython",
    "version": 3
   },
   "file_extension": ".py",
   "mimetype": "text/x-python",
   "name": "python",
   "nbconvert_exporter": "python",
   "pygments_lexer": "ipython3",
   "version": "3.12.8"
  }
 },
 "nbformat": 4,
 "nbformat_minor": 5
}
